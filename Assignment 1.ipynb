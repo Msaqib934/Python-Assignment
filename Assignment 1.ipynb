{
 "cells": [
  {
   "cell_type": "code",
   "execution_count": 21,
   "metadata": {},
   "outputs": [
    {
     "name": "stdout",
     "output_type": "stream",
     "text": [
      "My name is:Muhammad saqib\n",
      "I live in: Karachi\n",
      "My House no. is: 7d/1 north karachi\n",
      "My age is: 25\n"
     ]
    }
   ],
   "source": [
    "name = 'Muhammad saqib'\n",
    "city = 'karachi'\n",
    "address = '7d/1 north karachi'\n",
    "age = '25'\n",
    "print(f\"My name is:{name}\\nI live in: {City}\\nMy House no. is: {address}\\nMy age is: {age}\")"
   ]
  },
  {
   "cell_type": "code",
   "execution_count": null,
   "metadata": {},
   "outputs": [],
   "source": []
  }
 ],
 "metadata": {
  "kernelspec": {
   "display_name": "Python 3",
   "language": "python",
   "name": "python3"
  },
  "language_info": {
   "codemirror_mode": {
    "name": "ipython",
    "version": 3
   },
   "file_extension": ".py",
   "mimetype": "text/x-python",
   "name": "python",
   "nbconvert_exporter": "python",
   "pygments_lexer": "ipython3",
   "version": "3.7.4"
  }
 },
 "nbformat": 4,
 "nbformat_minor": 2
}
